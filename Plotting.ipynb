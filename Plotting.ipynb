{

 "metadata": {

  "name": "",

  "signature": "sha256:55880cef533be88b869a0f0f05711ce9f0bffd5dfc029da48fc0c1a6ab580a3e"

 },

 "nbformat": 3,

 "nbformat_minor": 0,

 "worksheets": [

  {

   "cells": [

    {

     "cell_type": "code",

     "collapsed": false,

     "input": [

      "import pandas as pd\n",

      "import matplotlib.pylab as plt\n",

      "from pylab import *\n",

      "import numpy as np\n",

      "%matplotlib inline\n",

      "matplotlib.rcParams.update({'font.size': 12, 'font.family': 'serif'})"

     ],

     "language": "python",

     "metadata": {},

     "outputs": [],

     "prompt_number": 57

    },

    {

     "cell_type": "heading",

     "level": 2,

     "metadata": {},

     "source": [

      "D - Rank Variation MAE"

     ]

    },

    {

     "cell_type": "code",

     "collapsed": false,

     "input": [

      "df_rank_variation = pd.read_csv(\"D:/Ipython/Recommendation System/D-rank_variation_MAE.csv\", index_col=0)"

     ],

     "language": "python",

     "metadata": {},

     "outputs": [],

     "prompt_number": 58

    },

    {

     "cell_type": "code",

     "collapsed": false,

     "input": [

      "df_rank_variation "

     ],

     "language": "python",

     "metadata": {},

     "outputs": [

      {

       "html": [

        "<div style=\"max-height:1000px;max-width:1500px;overflow:auto;\">\n",

        "<table border=\"1\" class=\"dataframe\">\n",

        "  <thead>\n",

        "    <tr style=\"text-align: right;\">\n",

        "      <th></th>\n",

        "      <th>rank.max</th>\n",

        "      <th>Mean_Avg_Err</th>\n",

        "    </tr>\n",

        "  </thead>\n",

        "  <tbody>\n",

        "    <tr>\n",

        "      <th>1</th>\n",

        "      <td>   1</td>\n",

        "      <td> 0.767524</td>\n",

        "    </tr>\n",

        "    <tr>\n",

        "      <th>2</th>\n",

        "      <td>   5</td>\n",

        "      <td> 0.672092</td>\n",

        "    </tr>\n",

        "    <tr>\n",

        "      <th>3</th>\n",

        "      <td>  10</td>\n",

        "      <td> 0.607160</td>\n",

        "    </tr>\n",

        "    <tr>\n",

        "      <th>4</th>\n",

        "      <td>  25</td>\n",

        "      <td> 0.455336</td>\n",

        "    </tr>\n",

        "    <tr>\n",

        "      <th>5</th>\n",

        "      <td>  50</td>\n",

        "      <td> 0.269782</td>\n",

        "    </tr>\n",

        "    <tr>\n",

        "      <th>6</th>\n",

        "      <td> 100</td>\n",

        "      <td> 0.094581</td>\n",

        "    </tr>\n",

        "  </tbody>\n",

        "</table>\n",

        "</div>"

       ],

       "metadata": {},

       "output_type": "pyout",

       "prompt_number": 59,

       "text": [

        "   rank.max  Mean_Avg_Err\n",

        "1         1      0.767524\n",

        "2         5      0.672092\n",

        "3        10      0.607160\n",

        "4        25      0.455336\n",

        "5        50      0.269782\n",

        "6       100      0.094581"

       ]

      }

     ],

     "prompt_number": 59

    },

    {

     "cell_type": "code",

     "collapsed": false,

     "input": [

      "x = df_rank_variation['rank.max']"

     ],

     "language": "python",

     "metadata": {},

     "outputs": [],

     "prompt_number": 60

    },

    {

     "cell_type": "code",

     "collapsed": false,

     "input": [

      "y = df_rank_variation['Mean_Avg_Err']"

     ],

     "language": "python",

     "metadata": {},

     "outputs": [],

     "prompt_number": 61

    },

    {

     "cell_type": "code",

     "collapsed": false,

     "input": [

      "plt.figure(num=None, figsize=(8, 6), dpi=80, facecolor='w', edgecolor='k')\n",

      "plt.plot(x,y, marker='D')\n",

      "plt.xlim([0,120])\n",

      "plt.ylim([0,1])\n",

      "plt.xlabel('rank max')\n",

      "plt.ylabel('mean avg err')"

     ],

     "language": "python",

     "metadata": {},

     "outputs": [

      {

       "metadata": {},

       "output_type": "pyout",

       "prompt_number": 62,

       "text": [

        "<matplotlib.text.Text at 0x974a3b0>"

       ]

      },

      {

       "metadata": {},

       "output_type": "display_data",

       "png": "[encoded data removed]",

       "text": [

        "<matplotlib.figure.Figure at 0xae24b70>"

       ]

      }

     ],

     "prompt_number": 62

    },

    {

     "cell_type": "heading",

     "level": 2,

     "metadata": {},

     "source": [

      "D - Interation variation MAE"

     ]

    },

    {

     "cell_type": "code",

     "collapsed": false,

     "input": [

      "df_iteration_MAE = pd.read_csv('D:/Ipython/Recommendation System/D-rank_variation_MAE.csv', index_col=0)"

     ],

     "language": "python",

     "metadata": {},

     "outputs": [],

     "prompt_number": 63

    },

    {

     "cell_type": "code",

     "collapsed": false,

     "input": [

      "df_iteration_MAE"

     ],

     "language": "python",

     "metadata": {},

     "outputs": [

      {

       "html": [

        "<div style=\"max-height:1000px;max-width:1500px;overflow:auto;\">\n",

        "<table border=\"1\" class=\"dataframe\">\n",

        "  <thead>\n",

        "    <tr style=\"text-align: right;\">\n",

        "      <th></th>\n",

        "      <th>rank.max</th>\n",

        "      <th>Mean_Avg_Err</th>\n",

        "    </tr>\n",

        "  </thead>\n",

        "  <tbody>\n",

        "    <tr>\n",

        "      <th>1</th>\n",

        "      <td>   1</td>\n",

        "      <td> 0.767524</td>\n",

        "    </tr>\n",

        "    <tr>\n",

        "      <th>2</th>\n",

        "      <td>   5</td>\n",

        "      <td> 0.672092</td>\n",

        "    </tr>\n",

        "    <tr>\n",

        "      <th>3</th>\n",

        "      <td>  10</td>\n",

        "      <td> 0.607160</td>\n",

        "    </tr>\n",

        "    <tr>\n",

        "      <th>4</th>\n",

        "      <td>  25</td>\n",

        "      <td> 0.455336</td>\n",

        "    </tr>\n",

        "    <tr>\n",

        "      <th>5</th>\n",

        "      <td>  50</td>\n",

        "      <td> 0.269782</td>\n",

        "    </tr>\n",

        "    <tr>\n",

        "      <th>6</th>\n",

        "      <td> 100</td>\n",

        "      <td> 0.094581</td>\n",

        "    </tr>\n",

        "  </tbody>\n",

        "</table>\n",

        "</div>"

       ],

       "metadata": {},

       "output_type": "pyout",

       "prompt_number": 64,

       "text": [

        "   rank.max  Mean_Avg_Err\n",

        "1         1      0.767524\n",

        "2         5      0.672092\n",

        "3        10      0.607160\n",

        "4        25      0.455336\n",

        "5        50      0.269782\n",

        "6       100      0.094581"

       ]

      }

     ],

     "prompt_number": 64

    },

    {

     "cell_type": "code",

     "collapsed": false,

     "input": [

      "x1 = df_iteration_MAE['rank.max']"

     ],

     "language": "python",

     "metadata": {},

     "outputs": [],

     "prompt_number": 65

    },

    {

     "cell_type": "code",

     "collapsed": false,

     "input": [

      "y1 = df_iteration_MAE['Mean_Avg_Err']"

     ],

     "language": "python",

     "metadata": {},

     "outputs": [],

     "prompt_number": 66

    },

    {

     "cell_type": "code",

     "collapsed": false,

     "input": [

      "plt.figure(figsize=(8,6), dpi=80, facecolor='w', edgecolor='k')\n",

      "plt.plot(x1,y1, marker='D', color='r')\n",

      "plt.xlim([0,120])\n",

      "plt.ylim([0,1])\n",

      "plt.xlabel('rank max')\n",

      "plt.ylabel('mean avg err')"

     ],

     "language": "python",

     "metadata": {},

     "outputs": [

      {

       "metadata": {},

       "output_type": "pyout",

       "prompt_number": 67,

       "text": [

        "<matplotlib.text.Text at 0x82d4430>"

       ]

      },

      {

       "metadata": {},

       "output_type": "display_data",

       "png": "[encoded data removed]",

       "text": [

        "<matplotlib.figure.Figure at 0xa0fb230>"

       ]

      }

     ],

     "prompt_number": 67

    },

    {

     "cell_type": "heading",

     "level": 2,

     "metadata": {},

     "source": [

      "Rank Variation"

     ]

    },

    {

     "cell_type": "code",

     "collapsed": false,

     "input": [

      "df_rank = pd.read_csv('D:/Ipython/Recommendation System/rank_variation_MAE.csv', index_col=0)"

     ],

     "language": "python",

     "metadata": {},

     "outputs": [],

     "prompt_number": 68

    },

    {

     "cell_type": "code",

     "collapsed": false,

     "input": [

      "df_rank"

     ],

     "language": "python",

     "metadata": {},

     "outputs": [

      {

       "html": [

        "<div style=\"max-height:1000px;max-width:1500px;overflow:auto;\">\n",

        "<table border=\"1\" class=\"dataframe\">\n",

        "  <thead>\n",

        "    <tr style=\"text-align: right;\">\n",

        "      <th></th>\n",

        "      <th>rank.max</th>\n",

        "      <th>Mean_Avg_Err</th>\n",

        "    </tr>\n",

        "  </thead>\n",

        "  <tbody>\n",

        "    <tr>\n",

        "      <th>1</th>\n",

        "      <td>   1</td>\n",

        "      <td> 0.767524</td>\n",

        "    </tr>\n",

        "    <tr>\n",

        "      <th>2</th>\n",

        "      <td>   5</td>\n",

        "      <td> 0.672092</td>\n",

        "    </tr>\n",

        "    <tr>\n",

        "      <th>3</th>\n",

        "      <td>  10</td>\n",

        "      <td> 0.607160</td>\n",

        "    </tr>\n",

        "    <tr>\n",

        "      <th>4</th>\n",

        "      <td>  25</td>\n",

        "      <td> 0.455336</td>\n",

        "    </tr>\n",

        "    <tr>\n",

        "      <th>5</th>\n",

        "      <td>  50</td>\n",

        "      <td> 0.269782</td>\n",

        "    </tr>\n",

        "    <tr>\n",

        "      <th>6</th>\n",

        "      <td> 100</td>\n",

        "      <td> 0.094581</td>\n",

        "    </tr>\n",

        "  </tbody>\n",

        "</table>\n",

        "</div>"

       ],

       "metadata": {},

       "output_type": "pyout",

       "prompt_number": 69,

       "text": [

        "   rank.max  Mean_Avg_Err\n",

        "1         1      0.767524\n",

        "2         5      0.672092\n",

        "3        10      0.607160\n",

        "4        25      0.455336\n",

        "5        50      0.269782\n",

        "6       100      0.094581"

       ]

      }

     ],

     "prompt_number": 69

    },

    {

     "cell_type": "code",

     "collapsed": false,

     "input": [

      "x2 = df_rank['rank.max']"

     ],

     "language": "python",

     "metadata": {},

     "outputs": [],

     "prompt_number": 70

    },

    {

     "cell_type": "code",

     "collapsed": false,

     "input": [

      "y2 = df_rank['Mean_Avg_Err']"

     ],

     "language": "python",

     "metadata": {},

     "outputs": [],

     "prompt_number": 71

    },

    {

     "cell_type": "code",

     "collapsed": false,

     "input": [

      "plt.figure(figsize=(8,6), dpi=80, facecolor='w', edgecolor='k')\n",

      "plt.plot(x2,y2, marker='D', color='g')\n",

      "plt.xlim([0,120])\n",

      "plt.ylim([0,1])\n",

      "plt.xlabel('rank max')\n",

      "plt.ylabel('mean avg err')"

     ],

     "language": "python",

     "metadata": {},

     "outputs": [

      {

       "metadata": {},

       "output_type": "pyout",

       "prompt_number": 72,

       "text": [

        "<matplotlib.text.Text at 0xaef8550>"

       ]

      },

      {

       "metadata": {},

       "output_type": "display_data",

       "png": "[encoded data removed]",

       "text": [

        "<matplotlib.figure.Figure at 0x9e06f70>"

       ]

      }

     ],

     "prompt_number": 72

    },

    {

     "cell_type": "heading",

     "level": 2,

     "metadata": {},

     "source": [

      "Iteration Results [Precision & Recall] [TPR & FPR]"

     ]

    },

    {

     "cell_type": "code",

     "collapsed": false,

     "input": [

      "df_iter1 = pd.read_csv('D:/Ipython/Recommendation System/iter1_results.csv', index_col=0)\n",

      "df_iter5 = pd.read_csv('D:/Ipython/Recommendation System/iter5_results.csv',index_col=0)\n",

      "df_iter10 = pd.read_csv('D:/Ipython/Recommendation System/iter10_results.csv',index_col=0)\n",

      "df_iter25 = pd.read_csv('D:/Ipython/Recommendation System/iter25_results.csv',index_col=0)\n",

      "df_iter50 = pd.read_csv('D:/Ipython/Recommendation System/iter50_results.csv',index_col=0)"

     ],

     "language": "python",

     "metadata": {},

     "outputs": [],

     "prompt_number": 73

    },

    {

     "cell_type": "heading",

     "level": 3,

     "metadata": {},

     "source": [

      "Precision & Recall"

     ]

    },

    {

     "cell_type": "code",

     "collapsed": false,

     "input": [

      "df_iter1"

     ],

     "language": "python",

     "metadata": {},

     "outputs": [

      {

       "html": [

        "<div style=\"max-height:1000px;max-width:1500px;overflow:auto;\">\n",

        "<table border=\"1\" class=\"dataframe\">\n",

        "  <thead>\n",

        "    <tr style=\"text-align: right;\">\n",

        "      <th></th>\n",

        "      <th>TopN</th>\n",

        "      <th>TP</th>\n",

        "      <th>FN</th>\n",

        "      <th>FP</th>\n",

        "      <th>TN</th>\n",

        "      <th>Precision</th>\n",

        "      <th>Recall</th>\n",

        "      <th>TPR</th>\n",

        "      <th>FPR</th>\n",

        "    </tr>\n",

        "  </thead>\n",

        "  <tbody>\n",

        "    <tr>\n",

        "      <th>1</th>\n",

        "      <td>  1</td>\n",

        "      <td>  1</td>\n",

        "      <td> 96.284211</td>\n",

        "      <td> 0</td>\n",

        "      <td> 1584.715789</td>\n",

        "      <td> 1</td>\n",

        "      <td> 0.010279</td>\n",

        "      <td> 0.010279</td>\n",

        "      <td> 0</td>\n",

        "    </tr>\n",

        "    <tr>\n",

        "      <th>2</th>\n",

        "      <td>  3</td>\n",

        "      <td>  3</td>\n",

        "      <td> 94.294737</td>\n",

        "      <td> 0</td>\n",

        "      <td> 1584.705263</td>\n",

        "      <td> 1</td>\n",

        "      <td> 0.030834</td>\n",

        "      <td> 0.030834</td>\n",

        "      <td> 0</td>\n",

        "    </tr>\n",

        "    <tr>\n",

        "      <th>3</th>\n",

        "      <td>  5</td>\n",

        "      <td>  5</td>\n",

        "      <td> 92.326316</td>\n",

        "      <td> 0</td>\n",

        "      <td> 1584.673684</td>\n",

        "      <td> 1</td>\n",

        "      <td> 0.051374</td>\n",

        "      <td> 0.051374</td>\n",

        "      <td> 0</td>\n",

        "    </tr>\n",

        "    <tr>\n",

        "      <th>4</th>\n",

        "      <td> 10</td>\n",

        "      <td> 10</td>\n",

        "      <td> 87.589474</td>\n",

        "      <td> 0</td>\n",

        "      <td> 1584.410526</td>\n",

        "      <td> 1</td>\n",

        "      <td> 0.102470</td>\n",

        "      <td> 0.102470</td>\n",

        "      <td> 0</td>\n",

        "    </tr>\n",

        "    <tr>\n",

        "      <th>5</th>\n",

        "      <td> 15</td>\n",

        "      <td> 15</td>\n",

        "      <td> 83.094737</td>\n",

        "      <td> 0</td>\n",

        "      <td> 1583.905263</td>\n",

        "      <td> 1</td>\n",

        "      <td> 0.152913</td>\n",

        "      <td> 0.152913</td>\n",

        "      <td> 0</td>\n",

        "    </tr>\n",

        "    <tr>\n",

        "      <th>6</th>\n",

        "      <td> 20</td>\n",

        "      <td> 20</td>\n",

        "      <td> 78.873684</td>\n",

        "      <td> 0</td>\n",

        "      <td> 1583.126316</td>\n",

        "      <td> 1</td>\n",

        "      <td> 0.202278</td>\n",

        "      <td> 0.202278</td>\n",

        "      <td> 0</td>\n",

        "    </tr>\n",

        "  </tbody>\n",

        "</table>\n",

        "</div>"

       ],

       "metadata": {},

       "output_type": "pyout",

       "prompt_number": 74,

       "text": [

        "   TopN  TP         FN  FP           TN  Precision    Recall       TPR  FPR\n",

        "1     1   1  96.284211   0  1584.715789          1  0.010279  0.010279    0\n",

        "2     3   3  94.294737   0  1584.705263          1  0.030834  0.030834    0\n",

        "3     5   5  92.326316   0  1584.673684          1  0.051374  0.051374    0\n",

        "4    10  10  87.589474   0  1584.410526          1  0.102470  0.102470    0\n",

        "5    15  15  83.094737   0  1583.905263          1  0.152913  0.152913    0\n",

        "6    20  20  78.873684   0  1583.126316          1  0.202278  0.202278    0"

       ]

      }

     ],

     "prompt_number": 74

    },

    {

     "cell_type": "code",

     "collapsed": false,

     "input": [

      "x_iter1 = df_iter1['Recall']\n",

      "y_iter1 = df_iter1['Precision']"

     ],

     "language": "python",

     "metadata": {},

     "outputs": [],

     "prompt_number": 75

    },

    {

     "cell_type": "code",

     "collapsed": false,

     "input": [

      "x_iter5 = df_iter5['Recall']\n",

      "y_iter5 = df_iter5['Precision']"

     ],

     "language": "python",

     "metadata": {},

     "outputs": [],

     "prompt_number": 76

    },

    {

     "cell_type": "code",

     "collapsed": false,

     "input": [

      "x_iter10 = df_iter10['Recall']\n",

      "y_iter10 = df_iter10['Precision']"

     ],

     "language": "python",

     "metadata": {},

     "outputs": [],

     "prompt_number": 77

    },

    {

     "cell_type": "code",

     "collapsed": false,

     "input": [

      "x_iter25 = df_iter25['Recall']\n",

      "y_iter25 = df_iter25['Precision']"

     ],

     "language": "python",

     "metadata": {},

     "outputs": [],

     "prompt_number": 78

    },

    {

     "cell_type": "code",

     "collapsed": false,

     "input": [

      "x_iter50 = df_iter50['Recall']\n",

      "y_iter50 = df_iter50['Precision']"

     ],

     "language": "python",

     "metadata": {},

     "outputs": [],

     "prompt_number": 79

    },

    {

     "cell_type": "code",

     "collapsed": false,

     "input": [

      "fig, ax = plt.subplots(figsize=(8,6), dpi=80)\n",

      "ax.plot(x_iter1, y_iter1, label='Iter1', marker='o')\n",

      "ax.plot(x_iter5, y_iter5 ,label='Iter5',  marker='v')\n",

      "ax.plot(x_iter10, y_iter10 , label='Iter10',  marker='x')\n",

      "ax.plot(x_iter25, y_iter25 , label='Iter25',  marker='+')\n",

      "ax.plot(x_iter50, y_iter50 , label='Iter50',marker='D')\n",

      "ax.legend(loc=1); # upper left corner\n",

      "ax.set_xlabel('Recall')\n",

      "ax.set_ylabel('Precision')\n",

      "ax.legend(loc='center left', bbox_to_anchor=(1, 0.5))"

     ],

     "language": "python",

     "metadata": {},

     "outputs": [

      {

       "metadata": {},

       "output_type": "pyout",

       "prompt_number": 80,

       "text": [

        "<matplotlib.legend.Legend at 0xb0fe1f0>"

       ]

      },

      {

       "metadata": {},

       "output_type": "display_data",

       "png": "[encoded data removed]",

       "text": [

        "<matplotlib.figure.Figure at 0xb07c7b0>"

       ]

      }

     ],

     "prompt_number": 80

    },

    {

     "cell_type": "heading",

     "level": 3,

     "metadata": {},

     "source": [

      "FPR & TPR"

     ]

    },

    {

     "cell_type": "code",

     "collapsed": false,

     "input": [

      "x_iter1_TF = df_iter1['FPR']\n",

      "y_iter1_TF = df_iter1['TPR']"

     ],

     "language": "python",

     "metadata": {},

     "outputs": [],

     "prompt_number": 81

    },

    {

     "cell_type": "code",

     "collapsed": false,

     "input": [

      "x_iter5_TF = df_iter5['FPR']\n",

      "y_iter5_TF = df_iter5['TPR']"

     ],

     "language": "python",

     "metadata": {},

     "outputs": [],

     "prompt_number": 82

    },

    {

     "cell_type": "code",

     "collapsed": false,

     "input": [

      "x_iter10_TF = df_iter10['FPR']\n",

      "y_iter10_TF = df_iter10['TPR']"

     ],

     "language": "python",

     "metadata": {},

     "outputs": [],

     "prompt_number": 83

    },

    {

     "cell_type": "code",

     "collapsed": false,

     "input": [

      "x_iter25_TF = df_iter25['FPR']\n",

      "y_iter25_TF = df_iter25['TPR']"

     ],

     "language": "python",

     "metadata": {},

     "outputs": [],

     "prompt_number": 84

    },

    {

     "cell_type": "code",

     "collapsed": false,

     "input": [

      "x_iter50_TF = df_iter50['FPR']\n",

      "y_iter50_TF = df_iter50['TPR']"

     ],

     "language": "python",

     "metadata": {},

     "outputs": [],

     "prompt_number": 85

    },

    {

     "cell_type": "code",

     "collapsed": false,

     "input": [

      "fig, ax = plt.subplots(figsize=(8,6), dpi=80)\n",

      "ticks = np.arange(0, 1, 0.001)\n",

      "ax.plot(x_iter1_TF , y_iter1_TF, label='Iter1', marker='o')\n",

      "ax.plot(x_iter5_TF, y_iter5_TF ,label='Iter5',  marker='v')\n",

      "ax.plot(x_iter10_TF, y_iter10_TF , label='Iter10',  marker='x')\n",

      "ax.plot(x_iter25_TF, y_iter25_TF , label='Iter25',  marker='+')\n",

      "ax.plot(x_iter50_TF, y_iter50_TF , label='Iter50',marker='D')\n",

      "ax.legend(loc=1); # upper left corner\n",

      "ax.set_xlabel('FPR')\n",

      "ax.set_ylabel('TPR')\n",

      "ax.legend(loc='center left', bbox_to_anchor=(1, 0.5))"

     ],

     "language": "python",

     "metadata": {},

     "outputs": [

      {

       "metadata": {},

       "output_type": "pyout",

       "prompt_number": 86,

       "text": [

        "<matplotlib.legend.Legend at 0xb211410>"

       ]

      },

      {

       "metadata": {},

       "output_type": "display_data",

       "png": "[encoded data removed]",

       "text": [

        "<matplotlib.figure.Figure at 0xb0ecd70>"

       ]

      }

     ],

     "prompt_number": 86

    },

    {

     "cell_type": "heading",

     "level": 2,

     "metadata": {},

     "source": [

      "Rank Results [Precision & Recall] [TPR & FPR]"

     ]

    },

    {

     "cell_type": "code",

     "collapsed": false,

     "input": [

      "df_rank1 = pd.read_csv('D:/Ipython/Recommendation System/rank1_results.csv', index_col=0)\n",

      "df_rank5 = pd.read_csv('D:/Ipython/Recommendation System/rank5_results.csv',index_col=0)\n",

      "df_rank10 = pd.read_csv('D:/Ipython/Recommendation System/rank10_results.csv',index_col=0)\n",

      "df_rank25 = pd.read_csv('D:/Ipython/Recommendation System/rank25_results.csv',index_col=0)\n",

      "df_rank50 = pd.read_csv('D:/Ipython/Recommendation System/rank50_results.csv',index_col=0)"

     ],

     "language": "python",

     "metadata": {},

     "outputs": [],

     "prompt_number": 87

    },

    {

     "cell_type": "heading",

     "level": 3,

     "metadata": {},

     "source": [

      "Precision & Recall"

     ]

    },

    {

     "cell_type": "code",

     "collapsed": false,

     "input": [

      "df_rank1"

     ],

     "language": "python",

     "metadata": {},

     "outputs": [

      {

       "html": [

        "<div style=\"max-height:1000px;max-width:1500px;overflow:auto;\">\n",

        "<table border=\"1\" class=\"dataframe\">\n",

        "  <thead>\n",

        "    <tr style=\"text-align: right;\">\n",

        "      <th></th>\n",

        "      <th>TopN</th>\n",

        "      <th>TP</th>\n",

        "      <th>FN</th>\n",

        "      <th>FP</th>\n",

        "      <th>TN</th>\n",

        "      <th>Precision</th>\n",

        "      <th>Recall</th>\n",

        "      <th>TPR</th>\n",

        "      <th>FPR</th>\n",

        "    </tr>\n",

        "  </thead>\n",

        "  <tbody>\n",

        "    <tr>\n",

        "      <th>1</th>\n",

        "      <td>  1</td>\n",

        "      <td> 0.157895</td>\n",

        "      <td> 97.126316</td>\n",

        "      <td>  0.842105</td>\n",

        "      <td> 1583.873684</td>\n",

        "      <td> 0.157895</td>\n",

        "      <td> 0.001623</td>\n",

        "      <td> 0.001623</td>\n",

        "      <td> 0.000531</td>\n",

        "    </tr>\n",

        "    <tr>\n",

        "      <th>2</th>\n",

        "      <td>  3</td>\n",

        "      <td> 0.473684</td>\n",

        "      <td> 96.694737</td>\n",

        "      <td>  2.526316</td>\n",

        "      <td> 1582.305263</td>\n",

        "      <td> 0.157895</td>\n",

        "      <td> 0.004875</td>\n",

        "      <td> 0.004875</td>\n",

        "      <td> 0.001594</td>\n",

        "    </tr>\n",

        "    <tr>\n",

        "      <th>3</th>\n",

        "      <td>  5</td>\n",

        "      <td> 0.789474</td>\n",

        "      <td> 95.768421</td>\n",

        "      <td>  4.210526</td>\n",

        "      <td> 1581.231579</td>\n",

        "      <td> 0.157895</td>\n",

        "      <td> 0.008176</td>\n",

        "      <td> 0.008176</td>\n",

        "      <td> 0.002656</td>\n",

        "    </tr>\n",

        "    <tr>\n",

        "      <th>4</th>\n",

        "      <td> 10</td>\n",

        "      <td> 1.578947</td>\n",

        "      <td> 94.494737</td>\n",

        "      <td>  8.421053</td>\n",

        "      <td> 1577.505263</td>\n",

        "      <td> 0.157895</td>\n",

        "      <td> 0.016435</td>\n",

        "      <td> 0.016435</td>\n",

        "      <td> 0.005310</td>\n",

        "    </tr>\n",

        "    <tr>\n",

        "      <th>5</th>\n",

        "      <td> 15</td>\n",

        "      <td> 2.368421</td>\n",

        "      <td> 93.400000</td>\n",

        "      <td> 12.631579</td>\n",

        "      <td> 1573.600000</td>\n",

        "      <td> 0.157895</td>\n",

        "      <td> 0.024731</td>\n",

        "      <td> 0.024731</td>\n",

        "      <td> 0.007963</td>\n",

        "    </tr>\n",

        "    <tr>\n",

        "      <th>6</th>\n",

        "      <td> 20</td>\n",

        "      <td> 3.157895</td>\n",

        "      <td> 92.157895</td>\n",

        "      <td> 16.842105</td>\n",

        "      <td> 1569.842105</td>\n",

        "      <td> 0.157895</td>\n",

        "      <td> 0.033131</td>\n",

        "      <td> 0.033131</td>\n",

        "      <td> 0.010615</td>\n",

        "    </tr>\n",

        "  </tbody>\n",

        "</table>\n",

        "</div>"

       ],

       "metadata": {},

       "output_type": "pyout",

       "prompt_number": 88,

       "text": [

        "   TopN        TP         FN         FP           TN  Precision    Recall  \\\n",

        "1     1  0.157895  97.126316   0.842105  1583.873684   0.157895  0.001623   \n",

        "2     3  0.473684  96.694737   2.526316  1582.305263   0.157895  0.004875   \n",

        "3     5  0.789474  95.768421   4.210526  1581.231579   0.157895  0.008176   \n",

        "4    10  1.578947  94.494737   8.421053  1577.505263   0.157895  0.016435   \n",

        "5    15  2.368421  93.400000  12.631579  1573.600000   0.157895  0.024731   \n",

        "6    20  3.157895  92.157895  16.842105  1569.842105   0.157895  0.033131   \n",

        "\n",

        "        TPR       FPR  \n",

        "1  0.001623  0.000531  \n",

        "2  0.004875  0.001594  \n",

        "3  0.008176  0.002656  \n",

        "4  0.016435  0.005310  \n",

        "5  0.024731  0.007963  \n",

        "6  0.033131  0.010615  "

       ]

      }

     ],

     "prompt_number": 88

    },

    {

     "cell_type": "code",

     "collapsed": false,

     "input": [

      "x_rank1 = df_rank1['Recall']\n",

      "y_rank1 = df_rank1['Precision']"

     ],

     "language": "python",

     "metadata": {},

     "outputs": [],

     "prompt_number": 89

    },

    {

     "cell_type": "code",

     "collapsed": false,

     "input": [

      "x_rank5 = df_rank5['Recall']\n",

      "y_rank5 = df_rank5['Precision']"

     ],

     "language": "python",

     "metadata": {},

     "outputs": [],

     "prompt_number": 90

    },

    {

     "cell_type": "code",

     "collapsed": false,

     "input": [

      "x_rank10 = df_rank10['Recall']\n",

      "y_rank10 = df_rank10['Precision']"

     ],

     "language": "python",

     "metadata": {},

     "outputs": [],

     "prompt_number": 91

    },

    {

     "cell_type": "code",

     "collapsed": false,

     "input": [

      "x_rank25 = df_rank25['Recall']\n",

      "y_rank25 = df_rank25['Precision']"

     ],

     "language": "python",

     "metadata": {},

     "outputs": [],

     "prompt_number": 92

    },

    {

     "cell_type": "code",

     "collapsed": false,

     "input": [

      "x_rank50 = df_rank50['Recall']\n",

      "y_rank50 = df_rank50['Precision']"

     ],

     "language": "python",

     "metadata": {},

     "outputs": [],

     "prompt_number": 93

    },

    {

     "cell_type": "code",

     "collapsed": false,

     "input": [

      "fig, ax = plt.subplots(figsize=(8,6), dpi=80)\n",

      "ax.plot(x_rank1, y_rank1, label='Iter1', marker='o')\n",

      "ax.plot(x_rank5, y_rank5 ,label='Iter5',  marker='v')\n",

      "ax.plot(x_rank10, y_rank10 , label='Iter10',  marker='x')\n",

      "ax.plot(x_rank25, y_rank25 , label='Iter25',  marker='+')\n",

      "ax.plot(x_rank50, y_rank50 , label='Iter50',marker='D')\n",

      "ax.legend(loc=1); # upper left corner\n",

      "ax.set_xlabel('Recall')\n",

      "ax.set_ylabel('Precision')\n",

      "ax.legend(loc='center left', bbox_to_anchor=(1, 0.5))"

     ],

     "language": "python",

     "metadata": {},

     "outputs": [

      {

       "metadata": {},

       "output_type": "pyout",

       "prompt_number": 94,

       "text": [

        "<matplotlib.legend.Legend at 0xb2c2ef0>"

       ]

      },

      {

       "metadata": {},

       "output_type": "display_data",

       "png": "[encoded data removed]",

       "text": [

        "<matplotlib.figure.Figure at 0xb1fef30>"

       ]

      }

     ],

     "prompt_number": 94

    },

    {

     "cell_type": "heading",

     "level": 3,

     "metadata": {},

     "source": [

      "FPR & TPR"

     ]

    },

    {

     "cell_type": "code",

     "collapsed": false,

     "input": [

      "x_rank1_TF = df_rank1['FPR']\n",

      "y_rank1_TF = df_rank1['TPR']"

     ],

     "language": "python",

     "metadata": {},

     "outputs": [],

     "prompt_number": 95

    },

    {

     "cell_type": "code",

     "collapsed": false,

     "input": [

      "x_rank5_TF = df_rank5['FPR']\n",

      "y_rank5_TF = df_rank5['TPR']"

     ],

     "language": "python",

     "metadata": {},

     "outputs": [],

     "prompt_number": 96

    },

    {

     "cell_type": "code",

     "collapsed": false,

     "input": [

      "x_rank10_TF = df_rank10['FPR']\n",

      "y_rank10_TF = df_rank10['TPR']"

     ],

     "language": "python",

     "metadata": {},

     "outputs": [],

     "prompt_number": 97

    },

    {

     "cell_type": "code",

     "collapsed": false,

     "input": [

      "x_rank25_TF = df_rank25['FPR']\n",

      "y_rank25_TF = df_rank25['TPR']"

     ],

     "language": "python",

     "metadata": {},

     "outputs": [],

     "prompt_number": 98

    },

    {

     "cell_type": "code",

     "collapsed": false,

     "input": [

      "x_rank50_TF = df_rank50['FPR']\n",

      "y_rank50_TF = df_rank50['TPR']"

     ],

     "language": "python",

     "metadata": {},

     "outputs": [],

     "prompt_number": 99

    },

    {

     "cell_type": "code",

     "collapsed": false,

     "input": [

      "fig, ax = plt.subplots(figsize=(8,6), dpi=80)\n",

      "ax.plot(x_rank1_TF, y_rank1_TF, label='Iter1', marker='o')\n",

      "ax.plot(x_rank5_TF, y_rank5_TF ,label='Iter5',  marker='v')\n",

      "ax.plot(x_rank10_TF, y_rank10_TF , label='Iter10',  marker='x')\n",

      "ax.plot(x_rank25_TF, y_rank25_TF , label='Iter25',  marker='+')\n",

      "ax.plot(x_rank50_TF, y_rank50_TF , label='Iter50',marker='D')\n",

      "ax.legend(loc=1); # upper left corner\n",

      "ax.set_xlabel('FPR')\n",

      "ax.set_ylabel('TPR')\n",

      "ax.legend(loc='center left', bbox_to_anchor=(1, 0.5))"

     ],

     "language": "python",

     "metadata": {},

     "outputs": [

      {

       "metadata": {},

       "output_type": "pyout",

       "prompt_number": 103,

       "text": [

        "<matplotlib.legend.Legend at 0xb3f4590>"

       ]

      },

      {

       "metadata": {},

       "output_type": "display_data",

       "png": "[encoded data removed]",

       "text": [

        "<matplotlib.figure.Figure at 0xb2c2570>"

       ]

      }

     ],

     "prompt_number": 103

    },

    {

     "cell_type": "heading",

     "level": 2,

     "metadata": {},

     "source": [

      "Best Results [Precision & Recall] [TPR & FPR]"

     ]

    },

    {

     "cell_type": "code",

     "collapsed": false,

     "input": [

      "df_best = pd.read_csv('D:/Ipython/Recommendation System/best_results.csv', index_col=0)"

     ],

     "language": "python",

     "metadata": {},

     "outputs": [],

     "prompt_number": 105

    },

    {

     "cell_type": "code",

     "collapsed": false,

     "input": [

      "df_best"

     ],

     "language": "python",

     "metadata": {},

     "outputs": [

      {

       "html": [

        "<div style=\"max-height:1000px;max-width:1500px;overflow:auto;\">\n",

        "<table border=\"1\" class=\"dataframe\">\n",

        "  <thead>\n",

        "    <tr style=\"text-align: right;\">\n",

        "      <th></th>\n",

        "      <th>TopN</th>\n",

        "      <th>TP</th>\n",

        "      <th>FN</th>\n",

        "      <th>FP</th>\n",

        "      <th>TN</th>\n",

        "      <th>Precision</th>\n",

        "      <th>Recall</th>\n",

        "      <th>TPR</th>\n",

        "      <th>FPR</th>\n",

        "    </tr>\n",

        "  </thead>\n",

        "  <tbody>\n",

        "    <tr>\n",

        "      <th>1</th>\n",

        "      <td>  1</td>\n",

        "      <td>  0.505263</td>\n",

        "      <td> 96.778947</td>\n",

        "      <td> 0.494737</td>\n",

        "      <td> 1584.221053</td>\n",

        "      <td> 0.505263</td>\n",

        "      <td> 0.005194</td>\n",

        "      <td> 0.005194</td>\n",

        "      <td> 0.000312</td>\n",

        "    </tr>\n",

        "    <tr>\n",

        "      <th>2</th>\n",

        "      <td>  3</td>\n",

        "      <td>  1.515789</td>\n",

        "      <td> 95.126316</td>\n",

        "      <td> 1.484211</td>\n",

        "      <td> 1583.873684</td>\n",

        "      <td> 0.505263</td>\n",

        "      <td> 0.015685</td>\n",

        "      <td> 0.015685</td>\n",

        "      <td> 0.000936</td>\n",

        "    </tr>\n",

        "    <tr>\n",

        "      <th>3</th>\n",

        "      <td>  5</td>\n",

        "      <td>  2.526316</td>\n",

        "      <td> 93.378947</td>\n",

        "      <td> 2.473684</td>\n",

        "      <td> 1583.621053</td>\n",

        "      <td> 0.505263</td>\n",

        "      <td> 0.026342</td>\n",

        "      <td> 0.026342</td>\n",

        "      <td> 0.001560</td>\n",

        "    </tr>\n",

        "    <tr>\n",

        "      <th>4</th>\n",

        "      <td> 10</td>\n",

        "      <td>  5.052632</td>\n",

        "      <td> 88.831579</td>\n",

        "      <td> 4.947368</td>\n",

        "      <td> 1583.168421</td>\n",

        "      <td> 0.505263</td>\n",

        "      <td> 0.053818</td>\n",

        "      <td> 0.053818</td>\n",

        "      <td> 0.003115</td>\n",

        "    </tr>\n",

        "    <tr>\n",

        "      <th>5</th>\n",

        "      <td> 15</td>\n",

        "      <td>  7.578947</td>\n",

        "      <td> 84.484211</td>\n",

        "      <td> 7.421053</td>\n",

        "      <td> 1582.515789</td>\n",

        "      <td> 0.505263</td>\n",

        "      <td> 0.082323</td>\n",

        "      <td> 0.082323</td>\n",

        "      <td> 0.004668</td>\n",

        "    </tr>\n",

        "    <tr>\n",

        "      <th>6</th>\n",

        "      <td> 20</td>\n",

        "      <td> 10.105263</td>\n",

        "      <td> 80.263158</td>\n",

        "      <td> 9.894737</td>\n",

        "      <td> 1581.736842</td>\n",

        "      <td> 0.505263</td>\n",

        "      <td> 0.111823</td>\n",

        "      <td> 0.111823</td>\n",

        "      <td> 0.006217</td>\n",

        "    </tr>\n",

        "  </tbody>\n",

        "</table>\n",

        "</div>"

       ],

       "metadata": {},

       "output_type": "pyout",

       "prompt_number": 107,

       "text": [

        "   TopN         TP         FN        FP           TN  Precision    Recall  \\\n",

        "1     1   0.505263  96.778947  0.494737  1584.221053   0.505263  0.005194   \n",

        "2     3   1.515789  95.126316  1.484211  1583.873684   0.505263  0.015685   \n",

        "3     5   2.526316  93.378947  2.473684  1583.621053   0.505263  0.026342   \n",

        "4    10   5.052632  88.831579  4.947368  1583.168421   0.505263  0.053818   \n",

        "5    15   7.578947  84.484211  7.421053  1582.515789   0.505263  0.082323   \n",

        "6    20  10.105263  80.263158  9.894737  1581.736842   0.505263  0.111823   \n",

        "\n",

        "        TPR       FPR  \n",

        "1  0.005194  0.000312  \n",

        "2  0.015685  0.000936  \n",

        "3  0.026342  0.001560  \n",

        "4  0.053818  0.003115  \n",

        "5  0.082323  0.004668  \n",

        "6  0.111823  0.006217  "

       ]

      }

     ],

     "prompt_number": 107

    },

    {

     "cell_type": "code",

     "collapsed": false,

     "input": [

      "x_best = df_best['Recall']\n",

      "y_best= df_best['Precision']"

     ],

     "language": "python",

     "metadata": {},

     "outputs": [],

     "prompt_number": 108

    },

    {

     "cell_type": "code",

     "collapsed": false,

     "input": [

      "fig, ax = plt.subplots(figsize=(8,6), dpi=80)\n",

      "ax.plot(x_best, y_best, marker='o')\n",

      "ax.legend(loc=1); # upper left corner\n",

      "ax.set_xlabel('Recall')\n",

      "ax.set_ylabel('Precision')"

     ],

     "language": "python",

     "metadata": {},

     "outputs": [

      {

       "metadata": {},

       "output_type": "pyout",

       "prompt_number": 114,

       "text": [

        "<matplotlib.text.Text at 0xb3ca570>"

       ]

      },

      {

       "metadata": {},

       "output_type": "display_data",

       "png": "[encoded data removed]",

       "text": [

        "<matplotlib.figure.Figure at 0xc9524b0>"

       ]

      }

     ],

     "prompt_number": 114

    },

    {

     "cell_type": "code",

     "collapsed": false,

     "input": [

      "x_best_TF = df_best['FPR']\n",

      "y_best_TF= df_best['TPR']"

     ],

     "language": "python",

     "metadata": {},

     "outputs": [],

     "prompt_number": 115

    },

    {

     "cell_type": "code",

     "collapsed": false,

     "input": [

      "fig, ax = plt.subplots(figsize=(8,6), dpi=80)\n",

      "ax.plot(x_best_TF, y_best_TF, marker='o')\n",

      "ax.legend(loc=1); # upper left corner\n",

      "ax.set_xlabel('FPR')\n",

      "ax.set_ylabel('TPR')"

     ],

     "language": "python",

     "metadata": {},

     "outputs": [

      {

       "metadata": {},

       "output_type": "pyout",

       "prompt_number": 116,

       "text": [

        "<matplotlib.text.Text at 0xc86ee30>"

       ]

      },

      {

       "metadata": {},

       "output_type": "display_data",

       "png": "[encoded data removed]",

       "text": [

        "<matplotlib.figure.Figure at 0xc972f50>"

       ]

      }

     ],

     "prompt_number": 116

    },

    {

     "cell_type": "code",

     "collapsed": false,

     "input": [],

     "language": "python",

     "metadata": {},

     "outputs": []

    }

   ],

   "metadata": {}

  }

 ]

}
