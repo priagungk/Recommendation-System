{

 "metadata": {

  "name": "",

  "signature": "sha256:286d3338fcf1921887f8b1c51ac6d8eee9bada9aacec3300e73bbfd66e71cdcf"

 },

 "nbformat": 3,

 "nbformat_minor": 0,

 "worksheets": [

  {

   "cells": [

    {

     "cell_type": "code",

     "collapsed": false,

     "input": [

      "import pandas as pd\n",

      "import matplotlib.pylab as plt\n",

      "from pylab import *\n",

      "import numpy as np\n",

      "%matplotlib inline\n",

      "matplotlib.rcParams.update({'font.size': 16, 'font.family': 'serif'})"

     ],

     "language": "python",

     "metadata": {},

     "outputs": [],

     "prompt_number": 1

    },

    {

     "cell_type": "heading",

     "level": 2,

     "metadata": {},

     "source": [

      "D - Rank Variation MAE"

     ]

    },

    {

     "cell_type": "code",

     "collapsed": false,

     "input": [

      "df_rank_variation = pd.read_csv(\"D:/Ipython/Recommendation System/rank_variation_MAE.csv\", index_col=0)"

     ],

     "language": "python",

     "metadata": {},

     "outputs": [],

     "prompt_number": 2

    },

    {

     "cell_type": "code",

     "collapsed": false,

     "input": [

      "df_rank_variation "

     ],

     "language": "python",

     "metadata": {},

     "outputs": [

      {

       "html": [

        "<div style=\"max-height:1000px;max-width:1500px;overflow:auto;\">\n",

        "<table border=\"1\" class=\"dataframe\">\n",

        "  <thead>\n",

        "    <tr style=\"text-align: right;\">\n",

        "      <th></th>\n",

        "      <th>rank.max</th>\n",

        "      <th>Mean_Avg_Err</th>\n",

        "    </tr>\n",

        "  </thead>\n",

        "  <tbody>\n",

        "    <tr>\n",

        "      <th>1</th>\n",

        "      <td>   1</td>\n",

        "      <td> 0.770088</td>\n",

        "    </tr>\n",

        "    <tr>\n",

        "      <th>2</th>\n",

        "      <td>   5</td>\n",

        "      <td> 0.673608</td>\n",

        "    </tr>\n",

        "    <tr>\n",

        "      <th>3</th>\n",

        "      <td>  10</td>\n",

        "      <td> 0.608013</td>\n",

        "    </tr>\n",

        "    <tr>\n",

        "      <th>4</th>\n",

        "      <td>  25</td>\n",

        "      <td> 0.456088</td>\n",

        "    </tr>\n",

        "    <tr>\n",

        "      <th>5</th>\n",

        "      <td>  50</td>\n",

        "      <td> 0.268143</td>\n",

        "    </tr>\n",

        "    <tr>\n",

        "      <th>6</th>\n",

        "      <td> 100</td>\n",

        "      <td> 0.091673</td>\n",

        "    </tr>\n",

        "  </tbody>\n",

        "</table>\n",

        "</div>"

       ],

       "metadata": {},

       "output_type": "pyout",

       "prompt_number": 3,

       "text": [

        "   rank.max  Mean_Avg_Err\n",

        "1         1      0.770088\n",

        "2         5      0.673608\n",

        "3        10      0.608013\n",

        "4        25      0.456088\n",

        "5        50      0.268143\n",

        "6       100      0.091673"

       ]

      }

     ],

     "prompt_number": 3

    },

    {

     "cell_type": "code",

     "collapsed": false,

     "input": [

      "x = df_rank_variation['rank.max']"

     ],

     "language": "python",

     "metadata": {},

     "outputs": [],

     "prompt_number": 4

    },

    {

     "cell_type": "code",

     "collapsed": false,

     "input": [

      "y = df_rank_variation['Mean_Avg_Err']"

     ],

     "language": "python",

     "metadata": {},

     "outputs": [],

     "prompt_number": 5

    },

    {

     "cell_type": "code",

     "collapsed": false,

     "input": [

      "plt.figure(num=None, figsize=(8, 6), dpi=80, facecolor='w', edgecolor='k')\n",

      "plt.plot(x,y, marker='D')\n",

      "plt.xlim([0,120])\n",

      "plt.ylim([0,1])\n",

      "plt.xlabel('rank max')\n",

      "plt.ylabel('mean avg err')\n",

      "plt.title('Mean Average Error rank.max Variation ')\n",

      "plt.grid()"

     ],

     "language": "python",

     "metadata": {},

     "outputs": [

      {

       "metadata": {},

       "output_type": "display_data",

       "png": "[encoded data removed]",

       "text": [

        "<matplotlib.figure.Figure at 0x8a66d70>"

       ]

      }

     ],

     "prompt_number": 6

    },

    {

     "cell_type": "heading",

     "level": 2,

     "metadata": {},

     "source": [

      "D - Interation variation MAE"

     ]

    },

    {

     "cell_type": "code",

     "collapsed": false,

     "input": [

      "df_iteration_MAE = pd.read_csv('D:/Ipython/Recommendation System/iteration_variation_MAE.csv', index_col=0)"

     ],

     "language": "python",

     "metadata": {},

     "outputs": [],

     "prompt_number": 7

    },

    {

     "cell_type": "code",

     "collapsed": false,

     "input": [

      "df_iteration_MAE"

     ],

     "language": "python",

     "metadata": {},

     "outputs": [

      {

       "html": [

        "<div style=\"max-height:1000px;max-width:1500px;overflow:auto;\">\n",

        "<table border=\"1\" class=\"dataframe\">\n",

        "  <thead>\n",

        "    <tr style=\"text-align: right;\">\n",

        "      <th></th>\n",

        "      <th>Iteration</th>\n",

        "      <th>Mean_Avg_Err</th>\n",

        "    </tr>\n",

        "  </thead>\n",

        "  <tbody>\n",

        "    <tr>\n",

        "      <th>1</th>\n",

        "      <td>   5</td>\n",

        "      <td> 0.419653</td>\n",

        "    </tr>\n",

        "    <tr>\n",

        "      <th>2</th>\n",

        "      <td>  10</td>\n",

        "      <td> 0.278497</td>\n",

        "    </tr>\n",

        "    <tr>\n",

        "      <th>3</th>\n",

        "      <td>  25</td>\n",

        "      <td> 0.146746</td>\n",

        "    </tr>\n",

        "    <tr>\n",

        "      <th>4</th>\n",

        "      <td>  50</td>\n",

        "      <td> 0.091439</td>\n",

        "    </tr>\n",

        "    <tr>\n",

        "      <th>5</th>\n",

        "      <td> 100</td>\n",

        "      <td> 0.091712</td>\n",

        "    </tr>\n",

        "  </tbody>\n",

        "</table>\n",

        "</div>"

       ],

       "metadata": {},

       "output_type": "pyout",

       "prompt_number": 8,

       "text": [

        "   Iteration  Mean_Avg_Err\n",

        "1          5      0.419653\n",

        "2         10      0.278497\n",

        "3         25      0.146746\n",

        "4         50      0.091439\n",

        "5        100      0.091712"

       ]

      }

     ],

     "prompt_number": 8

    },

    {

     "cell_type": "code",

     "collapsed": false,

     "input": [

      "x1 = df_iteration_MAE['Iteration']"

     ],

     "language": "python",

     "metadata": {},

     "outputs": [],

     "prompt_number": 9

    },

    {

     "cell_type": "code",

     "collapsed": false,

     "input": [

      "y1 = df_iteration_MAE['Mean_Avg_Err']"

     ],

     "language": "python",

     "metadata": {},

     "outputs": [],

     "prompt_number": 10

    },

    {

     "cell_type": "code",

     "collapsed": false,

     "input": [

      "plt.figure(figsize=(8,6), dpi=80, facecolor='w', edgecolor='k')\n",

      "plt.plot(x1,y1, marker='D', color='r')\n",

      "plt.xlim([0,120])\n",

      "plt.ylim([0,1])\n",

      "plt.xlabel('max iteration')\n",

      "plt.ylabel('mean avg err')\n",

      "plt.title('Mean Average Error max.iteration Variation ')\n",

      "plt.grid()"

     ],

     "language": "python",

     "metadata": {},

     "outputs": [

      {

       "metadata": {},

       "output_type": "display_data",

       "png": "[encoded data removed]",

       "text": [

        "<matplotlib.figure.Figure at 0x8a77950>"

       ]

      }

     ],

     "prompt_number": 11

    },

    {

     "cell_type": "heading",

     "level": 2,

     "metadata": {},

     "source": [

      "Rank Variation"

     ]

    },

    {

     "cell_type": "code",

     "collapsed": false,

     "input": [

      "df_rank = pd.read_csv('D:/Ipython/Recommendation System/best_results.csv', index_col=0)"

     ],

     "language": "python",

     "metadata": {},

     "outputs": [],

     "prompt_number": 12

    },

    {

     "cell_type": "code",

     "collapsed": false,

     "input": [

      "df_rank"

     ],

     "language": "python",

     "metadata": {},

     "outputs": [

      {

       "html": [

        "<div style=\"max-height:1000px;max-width:1500px;overflow:auto;\">\n",

        "<table border=\"1\" class=\"dataframe\">\n",

        "  <thead>\n",

        "    <tr style=\"text-align: right;\">\n",

        "      <th></th>\n",

        "      <th>TopN</th>\n",

        "      <th>TP</th>\n",

        "      <th>FN</th>\n",

        "      <th>FP</th>\n",

        "      <th>TN</th>\n",

        "      <th>Precision</th>\n",

        "      <th>Recall</th>\n",

        "      <th>TPR</th>\n",

        "      <th>FPR</th>\n",

        "    </tr>\n",

        "  </thead>\n",

        "  <tbody>\n",

        "    <tr>\n",

        "      <th>1</th>\n",

        "      <td>  1</td>\n",

        "      <td>  0.610526</td>\n",

        "      <td> 102.547368</td>\n",

        "      <td> 0.389474</td>\n",

        "      <td> 1578.452632</td>\n",

        "      <td> 0.610526</td>\n",

        "      <td> 0.005918</td>\n",

        "      <td> 0.005918</td>\n",

        "      <td> 0.000247</td>\n",

        "    </tr>\n",

        "    <tr>\n",

        "      <th>2</th>\n",

        "      <td>  3</td>\n",

        "      <td>  2.252632</td>\n",

        "      <td> 100.905263</td>\n",

        "      <td> 0.747368</td>\n",

        "      <td> 1578.094737</td>\n",

        "      <td> 0.750877</td>\n",

        "      <td> 0.021837</td>\n",

        "      <td> 0.021837</td>\n",

        "      <td> 0.000473</td>\n",

        "    </tr>\n",

        "    <tr>\n",

        "      <th>3</th>\n",

        "      <td>  5</td>\n",

        "      <td>  4.073684</td>\n",

        "      <td>  99.084211</td>\n",

        "      <td> 0.926316</td>\n",

        "      <td> 1577.915789</td>\n",

        "      <td> 0.814737</td>\n",

        "      <td> 0.039490</td>\n",

        "      <td> 0.039490</td>\n",

        "      <td> 0.000587</td>\n",

        "    </tr>\n",

        "    <tr>\n",

        "      <th>4</th>\n",

        "      <td> 10</td>\n",

        "      <td>  8.547368</td>\n",

        "      <td>  94.610526</td>\n",

        "      <td> 1.452632</td>\n",

        "      <td> 1577.389474</td>\n",

        "      <td> 0.854737</td>\n",

        "      <td> 0.082857</td>\n",

        "      <td> 0.082857</td>\n",

        "      <td> 0.000920</td>\n",

        "    </tr>\n",

        "    <tr>\n",

        "      <th>5</th>\n",

        "      <td> 15</td>\n",

        "      <td> 12.778947</td>\n",

        "      <td>  90.378947</td>\n",

        "      <td> 2.221053</td>\n",

        "      <td> 1576.621053</td>\n",

        "      <td> 0.851930</td>\n",

        "      <td> 0.123878</td>\n",

        "      <td> 0.123878</td>\n",

        "      <td> 0.001407</td>\n",

        "    </tr>\n",

        "    <tr>\n",

        "      <th>6</th>\n",

        "      <td> 20</td>\n",

        "      <td> 16.736842</td>\n",

        "      <td>  86.421053</td>\n",

        "      <td> 3.263158</td>\n",

        "      <td> 1575.578947</td>\n",

        "      <td> 0.836842</td>\n",

        "      <td> 0.162245</td>\n",

        "      <td> 0.162245</td>\n",

        "      <td> 0.002067</td>\n",

        "    </tr>\n",

        "  </tbody>\n",

        "</table>\n",

        "</div>"

       ],

       "metadata": {},

       "output_type": "pyout",

       "prompt_number": 13,

       "text": [

        "   TopN         TP          FN        FP           TN  Precision    Recall  \\\n",

        "1     1   0.610526  102.547368  0.389474  1578.452632   0.610526  0.005918   \n",

        "2     3   2.252632  100.905263  0.747368  1578.094737   0.750877  0.021837   \n",

        "3     5   4.073684   99.084211  0.926316  1577.915789   0.814737  0.039490   \n",

        "4    10   8.547368   94.610526  1.452632  1577.389474   0.854737  0.082857   \n",

        "5    15  12.778947   90.378947  2.221053  1576.621053   0.851930  0.123878   \n",

        "6    20  16.736842   86.421053  3.263158  1575.578947   0.836842  0.162245   \n",

        "\n",

        "        TPR       FPR  \n",

        "1  0.005918  0.000247  \n",

        "2  0.021837  0.000473  \n",

        "3  0.039490  0.000587  \n",

        "4  0.082857  0.000920  \n",

        "5  0.123878  0.001407  \n",

        "6  0.162245  0.002067  "

       ]

      }

     ],

     "prompt_number": 13

    },

    {

     "cell_type": "code",

     "collapsed": false,

     "input": [

      "x_recall = df_rank['Recall']\n",

      "y_prec = df_rank['Precision']"

     ],

     "language": "python",

     "metadata": {},

     "outputs": [],

     "prompt_number": 14

    },

    {

     "cell_type": "code",

     "collapsed": false,

     "input": [

      "x_FPR = df_rank['FPR']\n",

      "y_TPR = df_rank['TPR']"

     ],

     "language": "python",

     "metadata": {},

     "outputs": [],

     "prompt_number": 15

    },

    {

     "cell_type": "code",

     "collapsed": false,

     "input": [

      "#plt.figure(figsize=(8,6), dpi=80, facecolor='w', edgecolor='k')\n",

      "#plt.plot(x2,y2, marker='D', color='g')\n",

      "#plt.xlim([0,120])\n",

      "#plt.ylim([0,1])\n",

      "#plt.xlabel('rank max')\n",

      "#plt.ylabel('mean avg err')\n",

      "\n",

      "\n",

      "\n",

      "fig, ax = plt.subplots(figsize=(8,6), dpi=80)\n",

      "ax.plot(x_recall, y_prec, label='Best Results Precision/Recall ', marker='o', color='r')\n",

      "ax.set_xlabel('Recall')\n",

      "ax.set_ylabel('Precision')\n",

      "ax.set_title('Best Result Recall & Precision')\n",

      "ax.grid()"

     ],

     "language": "python",

     "metadata": {},

     "outputs": [

      {

       "metadata": {},

       "output_type": "display_data",

       "png": "[encoded data removed]",

       "text": [

        "<matplotlib.figure.Figure at 0x8bcfaf0>"

       ]

      }

     ],

     "prompt_number": 16

    },

    {

     "cell_type": "code",

     "collapsed": false,

     "input": [

      "fig, ax = plt.subplots(figsize=(8,6), dpi=80)\n",

      "ax.plot(x_FPR , y_TPR , label='Best Results FPR/TPR',  marker='v')\n",

      "ax.set_xlabel('FPR')\n",

      "ax.set_ylabel('TPR')\n",

      "ax.set_title('Best Result FPR & TPR')\n",

      "ax.grid()"

     ],

     "language": "python",

     "metadata": {},

     "outputs": [

      {

       "metadata": {},

       "output_type": "display_data",

       "png": "[encoded data removed]",

       "text": [

        "<matplotlib.figure.Figure at 0x8bc7390>"

       ]

      }

     ],

     "prompt_number": 17

    },

    {

     "cell_type": "heading",

     "level": 2,

     "metadata": {},

     "source": [

      "Iteration Results [Precision & Recall] [TPR & FPR]"

     ]

    },

    {

     "cell_type": "code",

     "collapsed": false,

     "input": [

      "df_iter1 = pd.read_csv('D:/Ipython/Recommendation System/iter1_results.csv', index_col=0)\n",

      "df_iter5 = pd.read_csv('D:/Ipython/Recommendation System/iter5_results.csv',index_col=0)\n",

      "df_iter10 = pd.read_csv('D:/Ipython/Recommendation System/iter10_results.csv',index_col=0)\n",

      "df_iter25 = pd.read_csv('D:/Ipython/Recommendation System/iter25_results.csv',index_col=0)\n",

      "df_iter50 = pd.read_csv('D:/Ipython/Recommendation System/iter50_results.csv',index_col=0)"

     ],

     "language": "python",

     "metadata": {},

     "outputs": [],

     "prompt_number": 18

    },

    {

     "cell_type": "heading",

     "level": 3,

     "metadata": {},

     "source": [

      "Precision & Recall"

     ]

    },

    {

     "cell_type": "code",

     "collapsed": false,

     "input": [

      "df_iter1"

     ],

     "language": "python",

     "metadata": {},

     "outputs": [

      {

       "html": [

        "<div style=\"max-height:1000px;max-width:1500px;overflow:auto;\">\n",

        "<table border=\"1\" class=\"dataframe\">\n",

        "  <thead>\n",

        "    <tr style=\"text-align: right;\">\n",

        "      <th></th>\n",

        "      <th>TopN</th>\n",

        "      <th>TP</th>\n",

        "      <th>FN</th>\n",

        "      <th>FP</th>\n",

        "      <th>TN</th>\n",

        "      <th>Precision</th>\n",

        "      <th>Recall</th>\n",

        "      <th>TPR</th>\n",

        "      <th>FPR</th>\n",

        "    </tr>\n",

        "  </thead>\n",

        "  <tbody>\n",

        "    <tr>\n",

        "      <th>1</th>\n",

        "      <td>  1</td>\n",

        "      <td>  1.000000</td>\n",

        "      <td> 102.157895</td>\n",

        "      <td> 0.000000</td>\n",

        "      <td> 1578.842105</td>\n",

        "      <td> 1.000000</td>\n",

        "      <td> 0.009694</td>\n",

        "      <td> 0.009694</td>\n",

        "      <td> 0.000000</td>\n",

        "    </tr>\n",

        "    <tr>\n",

        "      <th>2</th>\n",

        "      <td>  3</td>\n",

        "      <td>  2.968421</td>\n",

        "      <td> 100.189474</td>\n",

        "      <td> 0.031579</td>\n",

        "      <td> 1578.810526</td>\n",

        "      <td> 0.989474</td>\n",

        "      <td> 0.028776</td>\n",

        "      <td> 0.028776</td>\n",

        "      <td> 0.000020</td>\n",

        "    </tr>\n",

        "    <tr>\n",

        "      <th>3</th>\n",

        "      <td>  5</td>\n",

        "      <td>  4.957895</td>\n",

        "      <td>  98.200000</td>\n",

        "      <td> 0.042105</td>\n",

        "      <td> 1578.800000</td>\n",

        "      <td> 0.991579</td>\n",

        "      <td> 0.048061</td>\n",

        "      <td> 0.048061</td>\n",

        "      <td> 0.000027</td>\n",

        "    </tr>\n",

        "    <tr>\n",

        "      <th>4</th>\n",

        "      <td> 10</td>\n",

        "      <td>  9.673684</td>\n",

        "      <td>  93.484211</td>\n",

        "      <td> 0.326316</td>\n",

        "      <td> 1578.515789</td>\n",

        "      <td> 0.967368</td>\n",

        "      <td> 0.093776</td>\n",

        "      <td> 0.093776</td>\n",

        "      <td> 0.000207</td>\n",

        "    </tr>\n",

        "    <tr>\n",

        "      <th>5</th>\n",

        "      <td> 15</td>\n",

        "      <td> 14.315789</td>\n",

        "      <td>  88.842105</td>\n",

        "      <td> 0.684211</td>\n",

        "      <td> 1578.157895</td>\n",

        "      <td> 0.954386</td>\n",

        "      <td> 0.138776</td>\n",

        "      <td> 0.138776</td>\n",

        "      <td> 0.000433</td>\n",

        "    </tr>\n",

        "    <tr>\n",

        "      <th>6</th>\n",

        "      <td> 20</td>\n",

        "      <td> 18.431579</td>\n",

        "      <td>  84.726316</td>\n",

        "      <td> 1.568421</td>\n",

        "      <td> 1577.273684</td>\n",

        "      <td> 0.921579</td>\n",

        "      <td> 0.178673</td>\n",

        "      <td> 0.178673</td>\n",

        "      <td> 0.000993</td>\n",

        "    </tr>\n",

        "  </tbody>\n",

        "</table>\n",

        "</div>"

       ],

       "metadata": {},

       "output_type": "pyout",

       "prompt_number": 19,

       "text": [

        "   TopN         TP          FN        FP           TN  Precision    Recall  \\\n",

        "1     1   1.000000  102.157895  0.000000  1578.842105   1.000000  0.009694   \n",

        "2     3   2.968421  100.189474  0.031579  1578.810526   0.989474  0.028776   \n",

        "3     5   4.957895   98.200000  0.042105  1578.800000   0.991579  0.048061   \n",

        "4    10   9.673684   93.484211  0.326316  1578.515789   0.967368  0.093776   \n",

        "5    15  14.315789   88.842105  0.684211  1578.157895   0.954386  0.138776   \n",

        "6    20  18.431579   84.726316  1.568421  1577.273684   0.921579  0.178673   \n",

        "\n",

        "        TPR       FPR  \n",

        "1  0.009694  0.000000  \n",

        "2  0.028776  0.000020  \n",

        "3  0.048061  0.000027  \n",

        "4  0.093776  0.000207  \n",

        "5  0.138776  0.000433  \n",

        "6  0.178673  0.000993  "

       ]

      }

     ],

     "prompt_number": 19

    },

    {

     "cell_type": "code",

     "collapsed": false,

     "input": [

      "x_iter1 = df_iter1['Recall']\n",

      "y_iter1 = df_iter1['Precision']"

     ],

     "language": "python",

     "metadata": {},

     "outputs": [],

     "prompt_number": 20

    },

    {

     "cell_type": "code",

     "collapsed": false,

     "input": [

      "x_iter5 = df_iter5['Recall']\n",

      "y_iter5 = df_iter5['Precision']"

     ],

     "language": "python",

     "metadata": {},

     "outputs": [],

     "prompt_number": 21

    },

    {

     "cell_type": "code",

     "collapsed": false,

     "input": [

      "x_iter10 = df_iter10['Recall']\n",

      "y_iter10 = df_iter10['Precision']"

     ],

     "language": "python",

     "metadata": {},

     "outputs": [],

     "prompt_number": 22

    },

    {

     "cell_type": "code",

     "collapsed": false,

     "input": [

      "x_iter25 = df_iter25['Recall']\n",

      "y_iter25 = df_iter25['Precision']"

     ],

     "language": "python",

     "metadata": {},

     "outputs": [],

     "prompt_number": 23

    },

    {

     "cell_type": "code",

     "collapsed": false,

     "input": [

      "x_iter50 = df_iter50['Recall']\n",

      "y_iter50 = df_iter50['Precision']"

     ],

     "language": "python",

     "metadata": {},

     "outputs": [],

     "prompt_number": 24

    },

    {

     "cell_type": "code",

     "collapsed": false,

     "input": [

      "fig, ax = plt.subplots(figsize=(8,6), dpi=80)\n",

      "ax.plot(x_iter1, y_iter1, label='Iter1', marker='o')\n",

      "ax.plot(x_iter5, y_iter5 ,label='Iter5',  marker='v')\n",

      "ax.plot(x_iter10, y_iter10 , label='Iter10',  marker='x')\n",

      "ax.plot(x_iter25, y_iter25 , label='Iter25',  marker='+')\n",

      "ax.plot(x_iter50, y_iter50 , label='Best MAE',marker='D', color='#F03C79')\n",

      "#ax.plot(x_recall, y_prec , label='',marker='^', color='')\n",

      "ax.legend(loc=1); # upper left corner\n",

      "ax.set_xlabel('Recall')\n",

      "ax.set_ylabel('Precision')\n",

      "ax.set_title('max.iteration Variation (Precision & Results)')\n",

      "ax.legend(loc='center left', bbox_to_anchor=(1, 0.5))\n",

      "ax.grid()"

     ],

     "language": "python",

     "metadata": {},

     "outputs": [

      {

       "metadata": {},

       "output_type": "display_data",

       "png": "[encoded data removed]",

       "text": [

        "<matplotlib.figure.Figure at 0x8f7ea50>"

       ]

      }

     ],

     "prompt_number": 46

    },

    {

     "cell_type": "heading",

     "level": 3,

     "metadata": {},

     "source": [

      "FPR & TPR"

     ]

    },

    {

     "cell_type": "code",

     "collapsed": false,

     "input": [

      "x_iter1_TF = df_iter1['FPR']\n",

      "y_iter1_TF = df_iter1['TPR']"

     ],

     "language": "python",

     "metadata": {},

     "outputs": [],

     "prompt_number": 26

    },

    {

     "cell_type": "code",

     "collapsed": false,

     "input": [

      "x_iter5_TF = df_iter5['FPR']\n",

      "y_iter5_TF = df_iter5['TPR']"

     ],

     "language": "python",

     "metadata": {},

     "outputs": [],

     "prompt_number": 27

    },

    {

     "cell_type": "code",

     "collapsed": false,

     "input": [

      "x_iter10_TF = df_iter10['FPR']\n",

      "y_iter10_TF = df_iter10['TPR']"

     ],

     "language": "python",

     "metadata": {},

     "outputs": [],

     "prompt_number": 28

    },

    {

     "cell_type": "code",

     "collapsed": false,

     "input": [

      "x_iter25_TF = df_iter25['FPR']\n",

      "y_iter25_TF = df_iter25['TPR']"

     ],

     "language": "python",

     "metadata": {},

     "outputs": [],

     "prompt_number": 29

    },

    {

     "cell_type": "code",

     "collapsed": false,

     "input": [

      "x_iter50_TF = df_iter50['FPR']\n",

      "y_iter50_TF = df_iter50['TPR']"

     ],

     "language": "python",

     "metadata": {},

     "outputs": [],

     "prompt_number": 30

    },

    {

     "cell_type": "code",

     "collapsed": false,

     "input": [

      "fig, ax = plt.subplots(figsize=(8,6), dpi=80)\n",

      "ticks = np.arange(0, 1, 0.001)\n",

      "ax.plot(x_iter1_TF , y_iter1_TF, label='Iter1', marker='o')\n",

      "ax.plot(x_iter5_TF, y_iter5_TF ,label='Iter5',  marker='v')\n",

      "ax.plot(x_iter10_TF, y_iter10_TF , label='Iter10',  marker='x')\n",

      "ax.plot(x_iter25_TF, y_iter25_TF , label='Iter25',  marker='+')\n",

      "ax.plot(x_iter50_TF, y_iter50_TF , label='Best MAE',marker='D', color='#F03C79')\n",

      "#ax.plot(x_FPR, y_TPR , label='',marker='^', color='')\n",

      "ax.legend(loc=1); # upper left corner\n",

      "ax.set_xlabel('FPR')\n",

      "ax.set_ylabel('TPR')\n",

      "ax.set_title('max.iteration Variation (FPR & TPR)')\n",

      "ax.legend(loc='center left', bbox_to_anchor=(1, 0.5))\n",

      "ax.grid()"

     ],

     "language": "python",

     "metadata": {},

     "outputs": [

      {

       "metadata": {},

       "output_type": "display_data",

       "png": "[encoded data removed]",

       "text": [

        "<matplotlib.figure.Figure at 0x8b00f10>"

       ]

      }

     ],

     "prompt_number": 47

    },

    {

     "cell_type": "heading",

     "level": 2,

     "metadata": {},

     "source": [

      "Rank Results [Precision & Recall] [TPR & FPR]"

     ]

    },

    {

     "cell_type": "code",

     "collapsed": false,

     "input": [

      "df_rank1 = pd.read_csv('D:/Ipython/Recommendation System/rank1_results.csv', index_col=0)\n",

      "df_rank5 = pd.read_csv('D:/Ipython/Recommendation System/rank5_results.csv',index_col=0)\n",

      "df_rank10 = pd.read_csv('D:/Ipython/Recommendation System/rank10_results.csv',index_col=0)\n",

      "df_rank25 = pd.read_csv('D:/Ipython/Recommendation System/rank25_results.csv',index_col=0)\n",

      "df_rank50 = pd.read_csv('D:/Ipython/Recommendation System/rank50_results.csv',index_col=0)"

     ],

     "language": "python",

     "metadata": {},

     "outputs": [],

     "prompt_number": 32

    },

    {

     "cell_type": "heading",

     "level": 3,

     "metadata": {},

     "source": [

      "Precision & Recall"

     ]

    },

    {

     "cell_type": "code",

     "collapsed": false,

     "input": [

      "df_rank1"

     ],

     "language": "python",

     "metadata": {},

     "outputs": [

      {

       "html": [

        "<div style=\"max-height:1000px;max-width:1500px;overflow:auto;\">\n",

        "<table border=\"1\" class=\"dataframe\">\n",

        "  <thead>\n",

        "    <tr style=\"text-align: right;\">\n",

        "      <th></th>\n",

        "      <th>TopN</th>\n",

        "      <th>TP</th>\n",

        "      <th>FN</th>\n",

        "      <th>FP</th>\n",

        "      <th>TN</th>\n",

        "      <th>Precision</th>\n",

        "      <th>Recall</th>\n",

        "      <th>TPR</th>\n",

        "      <th>FPR</th>\n",

        "    </tr>\n",

        "  </thead>\n",

        "  <tbody>\n",

        "    <tr>\n",

        "      <th>1</th>\n",

        "      <td>  1</td>\n",

        "      <td> 0.168421</td>\n",

        "      <td> 102.989474</td>\n",

        "      <td>  0.831579</td>\n",

        "      <td> 1578.010526</td>\n",

        "      <td> 0.168421</td>\n",

        "      <td> 0.001633</td>\n",

        "      <td> 0.001633</td>\n",

        "      <td> 0.000527</td>\n",

        "    </tr>\n",

        "    <tr>\n",

        "      <th>2</th>\n",

        "      <td>  3</td>\n",

        "      <td> 0.578947</td>\n",

        "      <td> 102.578947</td>\n",

        "      <td>  2.421053</td>\n",

        "      <td> 1576.421053</td>\n",

        "      <td> 0.192982</td>\n",

        "      <td> 0.005612</td>\n",

        "      <td> 0.005612</td>\n",

        "      <td> 0.001533</td>\n",

        "    </tr>\n",

        "    <tr>\n",

        "      <th>3</th>\n",

        "      <td>  5</td>\n",

        "      <td> 1.210526</td>\n",

        "      <td> 101.947368</td>\n",

        "      <td>  3.789474</td>\n",

        "      <td> 1575.052632</td>\n",

        "      <td> 0.242105</td>\n",

        "      <td> 0.011735</td>\n",

        "      <td> 0.011735</td>\n",

        "      <td> 0.002400</td>\n",

        "    </tr>\n",

        "    <tr>\n",

        "      <th>4</th>\n",

        "      <td> 10</td>\n",

        "      <td> 2.873684</td>\n",

        "      <td> 100.284211</td>\n",

        "      <td>  7.126316</td>\n",

        "      <td> 1571.715789</td>\n",

        "      <td> 0.287368</td>\n",

        "      <td> 0.027857</td>\n",

        "      <td> 0.027857</td>\n",

        "      <td> 0.004514</td>\n",

        "    </tr>\n",

        "    <tr>\n",

        "      <th>5</th>\n",

        "      <td> 15</td>\n",

        "      <td> 4.210526</td>\n",

        "      <td>  98.947368</td>\n",

        "      <td> 10.789474</td>\n",

        "      <td> 1568.052632</td>\n",

        "      <td> 0.280702</td>\n",

        "      <td> 0.040816</td>\n",

        "      <td> 0.040816</td>\n",

        "      <td> 0.006834</td>\n",

        "    </tr>\n",

        "    <tr>\n",

        "      <th>6</th>\n",

        "      <td> 20</td>\n",

        "      <td> 5.557895</td>\n",

        "      <td>  97.600000</td>\n",

        "      <td> 14.442105</td>\n",

        "      <td> 1564.400000</td>\n",

        "      <td> 0.277895</td>\n",

        "      <td> 0.053878</td>\n",

        "      <td> 0.053878</td>\n",

        "      <td> 0.009147</td>\n",

        "    </tr>\n",

        "  </tbody>\n",

        "</table>\n",

        "</div>"

       ],

       "metadata": {},

       "output_type": "pyout",

       "prompt_number": 33,

       "text": [

        "   TopN        TP          FN         FP           TN  Precision    Recall  \\\n",

        "1     1  0.168421  102.989474   0.831579  1578.010526   0.168421  0.001633   \n",

        "2     3  0.578947  102.578947   2.421053  1576.421053   0.192982  0.005612   \n",

        "3     5  1.210526  101.947368   3.789474  1575.052632   0.242105  0.011735   \n",

        "4    10  2.873684  100.284211   7.126316  1571.715789   0.287368  0.027857   \n",

        "5    15  4.210526   98.947368  10.789474  1568.052632   0.280702  0.040816   \n",

        "6    20  5.557895   97.600000  14.442105  1564.400000   0.277895  0.053878   \n",

        "\n",

        "        TPR       FPR  \n",

        "1  0.001633  0.000527  \n",

        "2  0.005612  0.001533  \n",

        "3  0.011735  0.002400  \n",

        "4  0.027857  0.004514  \n",

        "5  0.040816  0.006834  \n",

        "6  0.053878  0.009147  "

       ]

      }

     ],

     "prompt_number": 33

    },

    {

     "cell_type": "code",

     "collapsed": false,

     "input": [

      "x_rank1 = df_rank1['Recall']\n",

      "y_rank1 = df_rank1['Precision']"

     ],

     "language": "python",

     "metadata": {},

     "outputs": [],

     "prompt_number": 34

    },

    {

     "cell_type": "code",

     "collapsed": false,

     "input": [

      "x_rank5 = df_rank5['Recall']\n",

      "y_rank5 = df_rank5['Precision']"

     ],

     "language": "python",

     "metadata": {},

     "outputs": [],

     "prompt_number": 35

    },

    {

     "cell_type": "code",

     "collapsed": false,

     "input": [

      "x_rank10 = df_rank10['Recall']\n",

      "y_rank10 = df_rank10['Precision']"

     ],

     "language": "python",

     "metadata": {},

     "outputs": [],

     "prompt_number": 36

    },

    {

     "cell_type": "code",

     "collapsed": false,

     "input": [

      "x_rank25 = df_rank25['Recall']\n",

      "y_rank25 = df_rank25['Precision']"

     ],

     "language": "python",

     "metadata": {},

     "outputs": [],

     "prompt_number": 37

    },

    {

     "cell_type": "code",

     "collapsed": false,

     "input": [

      "x_rank50 = df_rank50['Recall']\n",

      "y_rank50 = df_rank50['Precision']"

     ],

     "language": "python",

     "metadata": {},

     "outputs": [],

     "prompt_number": 38

    },

    {

     "cell_type": "code",

     "collapsed": false,

     "input": [

      "fig, ax = plt.subplots(figsize=(8,6), dpi=80)\n",

      "ax.plot(x_rank1, y_rank1, label='Rank1', marker='o')\n",

      "ax.plot(x_rank5, y_rank5 ,label='Rank5',  marker='v')\n",

      "ax.plot(x_rank10, y_rank10 , label='Rank10',  marker='x')\n",

      "ax.plot(x_rank25, y_rank25 , label='Rank25',  marker='+')\n",

      "ax.plot(x_rank50, y_rank50 , label='Rank50',marker='D')\n",

      "ax.plot(x_recall, y_prec , label='Best MAE',marker='^', color='#F03C79')\n",

      "ax.legend(loc=1); # upper left corner\n",

      "ax.set_xlabel('Recall')\n",

      "ax.set_ylabel('Precision')\n",

      "\n",

      "ax.set_title('rank.max Variation (Recall & Precision)')\n",

      "ax.legend(loc='center left', bbox_to_anchor=(1, 0.5))\n",

      "ax.grid()\n"

     ],

     "language": "python",

     "metadata": {},

     "outputs": [

      {

       "metadata": {},

       "output_type": "display_data",

       "png": "[encoded data removed]",

       "text": [

        "<matplotlib.figure.Figure at 0x8af2b10>"

       ]

      }

     ],

     "prompt_number": 39

    },

    {

     "cell_type": "heading",

     "level": 3,

     "metadata": {},

     "source": [

      "FPR & TPR"

     ]

    },

    {

     "cell_type": "code",

     "collapsed": false,

     "input": [

      "x_rank1_TF = df_rank1['FPR']\n",

      "y_rank1_TF = df_rank1['TPR']"

     ],

     "language": "python",

     "metadata": {},

     "outputs": [],

     "prompt_number": 40

    },

    {

     "cell_type": "code",

     "collapsed": false,

     "input": [

      "x_rank5_TF = df_rank5['FPR']\n",

      "y_rank5_TF = df_rank5['TPR']"

     ],

     "language": "python",

     "metadata": {},

     "outputs": [],

     "prompt_number": 41

    },

    {

     "cell_type": "code",

     "collapsed": false,

     "input": [

      "x_rank10_TF = df_rank10['FPR']\n",

      "y_rank10_TF = df_rank10['TPR']"

     ],

     "language": "python",

     "metadata": {},

     "outputs": [],

     "prompt_number": 42

    },

    {

     "cell_type": "code",

     "collapsed": false,

     "input": [

      "x_rank25_TF = df_rank25['FPR']\n",

      "y_rank25_TF = df_rank25['TPR']"

     ],

     "language": "python",

     "metadata": {},

     "outputs": [],

     "prompt_number": 43

    },

    {

     "cell_type": "code",

     "collapsed": false,

     "input": [

      "x_rank50_TF = df_rank50['FPR']\n",

      "y_rank50_TF = df_rank50['TPR']"

     ],

     "language": "python",

     "metadata": {},

     "outputs": [],

     "prompt_number": 44

    },

    {

     "cell_type": "code",

     "collapsed": false,

     "input": [

      "fig, ax = plt.subplots(figsize=(8,6), dpi=80)\n",

      "ax.plot(x_rank1_TF, y_rank1_TF, label='Rank1', marker='o')\n",

      "ax.plot(x_rank5_TF, y_rank5_TF ,label='Rank5',  marker='v')\n",

      "ax.plot(x_rank10_TF, y_rank10_TF , label='Rank10',  marker='x')\n",

      "ax.plot(x_rank25_TF, y_rank25_TF , label='Rank25',  marker='+')\n",

      "ax.plot(x_rank50_TF, y_rank50_TF , label='Rank50',marker='D')\n",

      "ax.plot(x_FPR, y_TPR , label='Best MAE',marker='^',color='#F03C79')\n",

      "ax.legend(loc=1); # upper left corner\n",

      "ax.set_xlabel('FPR')\n",

      "ax.set_ylabel('TPR')\n",

      "ax.set_title('rank.max Variation (FPR & TPR)')\n",

      "ax.legend(loc='center left', bbox_to_anchor=(1, 0.5))\n",

      "ax.grid()"

     ],

     "language": "python",

     "metadata": {},

     "outputs": [

      {

       "metadata": {},

       "output_type": "display_data",

       "png": "[encoded data removed]",

       "text": [

        "<matplotlib.figure.Figure at 0x8e3b8d0>"

       ]

      }

     ],

     "prompt_number": 45

    },

    {

     "cell_type": "code",

     "collapsed": false,

     "input": [],

     "language": "python",

     "metadata": {},

     "outputs": [],

     "prompt_number": 45

    },

    {

     "cell_type": "code",

     "collapsed": false,

     "input": [],

     "language": "python",

     "metadata": {},

     "outputs": [],

     "prompt_number": 45

    },

    {

     "cell_type": "code",

     "collapsed": false,

     "input": [],

     "language": "python",

     "metadata": {},

     "outputs": [],

     "prompt_number": 45

    },

    {

     "cell_type": "code",

     "collapsed": false,

     "input": [],

     "language": "python",

     "metadata": {},

     "outputs": []

    }

   ],

   "metadata": {}

  }

 ]

}
